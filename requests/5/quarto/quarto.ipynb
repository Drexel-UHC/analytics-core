{
  "cells": [
    {
      "cell_type": "raw",
      "metadata": {},
      "source": [
        "---\n",
        "title: \"quarto\"\n",
        "---"
      ],
      "id": "b8ca3b34"
    },
    {
      "cell_type": "markdown",
      "metadata": {},
      "source": [
        "Date:  2022-08-03 (15:41)\n",
        "\n",
        "Tags:  #request\n",
        "Links: [[informatics infrastructure]]\n",
        "\n",
        "# #3 - Help with grant informatics infrastructure language\n",
        "\n",
        "Issue URL: https://github.com/Drexel-UHC/analytics-core/issues/3 \n",
        "\n",
        "\n",
        "``` {md}\n",
        "I am working with Ana Diez Roux and Jane Clougherty to write a grant proposing that we at Drexel be the Research Coordinating Center for a Climate Change and Health Community of Practice. The grant would provide funding to do many of the things that folks at the UHC are doing for SALURBAL, including providing \"high-security-compliant, high-capacity informatics infrastructure suitable for data integration, storage, management, and sharing and ensure that the data meet the FAIR principles: findability, accessibility, interoperability, and reusability.\" While we are doing this for several projects across our groups, I am having a hard time describing the first part (high-security-compliant, high-capacity informatics infrastructure suitable for data integration, storage, management, and sharing). Ana suggested I reach out to you to see if you could help us draft some language that describes how we do this?\n",
        "```\n",
        "\n",
        "\n",
        "- The grant would provide funding to do many of the things that folks at the UHC are doing for SALURBAL, including providing \n",
        "\t- **high-security-compliant**  \n",
        "\t- **high-capacity informatics infrastructure** suitable for data\n",
        "\t\t- **integration** \n",
        "\t\t- **storage**\n",
        "\t\t- **management**\n",
        "\t\t- **sharing**\n",
        "\t- and ensure that the data meet the FAIR principles: findability, accessibility, interoperability, and reusability.\n",
        "- While we are doing this for several projects across our groups, I am having a hard time describing the first part\n",
        "\n",
        "**Goal: draft language to descibe how we are doing the two highlighted points above for SALURBAL.**\n",
        "\n",
        "Below we will document firstly the informatics infrastructure we utilize for SALURBAL and secondly talk about the high security compliance of said infrastructure. \n",
        "\n",
        "\n",
        "\n",
        "# SALURBAL - Informatic Infratrastructure\n",
        "What is informatics infrastructure. \n",
        "## High Capacity informatics infrastructure\n",
        "I think the key thing here is to formalize what we have been doing with SALURBAL which is an ETL pipeline. However I think its best we present this within the scope of perhaps other informatics infrastructures (I'm jsut throwing buzzwords out here: traditional databases, lakes, warehouses); we need to first define them briefly.\n",
        "\n",
        "\n",
        "\n",
        "\n",
        "## High security compliant\n",
        "\n",
        " \n",
        "\n",
        "\n",
        "\n",
        "\n",
        "Talking points to mention\n",
        "- ETL pipeline\n",
        "- Already established "
      ],
      "id": "c965f5f3"
    }
  ],
  "metadata": {
    "kernelspec": {
      "display_name": "Python 3",
      "language": "python",
      "name": "python3"
    }
  },
  "nbformat": 4,
  "nbformat_minor": 5
}